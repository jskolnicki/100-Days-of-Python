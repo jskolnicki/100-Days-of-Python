{
 "cells": [
  {
   "cell_type": "code",
   "execution_count": 1,
   "metadata": {},
   "outputs": [
    {
     "name": "stdout",
     "output_type": "stream",
     "text": [
      "{'flights': [{'city': 'Los Angeles', 'iataCode': 'LAX', 'lowestPrice': 80, 'id': 2}, {'city': 'Seattle', 'iataCode': 'SEA', 'lowestPrice': 50, 'id': 3}, {'city': 'Grand Junction', 'iataCode': 'GJT', 'lowestPrice': 60, 'id': 4}, {'city': 'Cleveland', 'iataCode': 'CLE', 'lowestPrice': 60, 'id': 5}]}\n"
     ]
    }
   ],
   "source": [
    "import os\n",
    "import requests\n",
    "import pandas as pd\n",
    "\n",
    "# class DataManager:\n",
    "#     #This class is responsible for talking to the Google Sheet.\n",
    "GOOGLE_SHEET_NAME = 'Flights'\n",
    "APP_ID = os.environ[\"PERSONAL_SHEETY_APP_ID\"]\n",
    "APP_KEY = os.environ[\"PERSONAL_SHEETY_API_KEY\"]\n",
    "SHEETY_BEARER_TOKEN = os.environ[\"PERSONAL_SHEETY_BEARER_TOKEN\"]\n",
    "\n",
    "headers = {\n",
    "    \"x-app-id\": APP_ID,\n",
    "    \"x-app-key\": APP_KEY,\n",
    "}\n",
    "\n",
    "bearer_headers = {'Authorization': SHEETY_BEARER_TOKEN}\n",
    "\n",
    "sheet_endpoint = 'https://api.sheety.co/2e8654f86ce23eb2d2ddf106a5a2b545/flightTracker/flights'\n",
    "\n",
    "\n",
    "sheet_response = requests.get(sheet_endpoint, headers=bearer_headers).json()\n",
    "pd.DataFrame(sheet_response['flights'])"
   ]
  }
 ],
 "metadata": {
  "kernelspec": {
   "display_name": "jared",
   "language": "python",
   "name": "python3"
  },
  "language_info": {
   "codemirror_mode": {
    "name": "ipython",
    "version": 3
   },
   "file_extension": ".py",
   "mimetype": "text/x-python",
   "name": "python",
   "nbconvert_exporter": "python",
   "pygments_lexer": "ipython3",
   "version": "3.9.5"
  },
  "orig_nbformat": 4,
  "vscode": {
   "interpreter": {
    "hash": "d65da66191f71f24bf90f4880f655b745c1449750f8c4a3e959bddde599b4da3"
   }
  }
 },
 "nbformat": 4,
 "nbformat_minor": 2
}

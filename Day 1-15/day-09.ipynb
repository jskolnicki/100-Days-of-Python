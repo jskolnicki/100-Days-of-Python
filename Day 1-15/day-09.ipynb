{
 "cells": [
  {
   "cell_type": "markdown",
   "id": "da03abcc",
   "metadata": {},
   "source": [
    "# Final Project"
   ]
  },
  {
   "cell_type": "code",
   "execution_count": 6,
   "id": "753dacff",
   "metadata": {
    "scrolled": true
   },
   "outputs": [
    {
     "name": "stdout",
     "output_type": "stream",
     "text": [
      "The winning bidder is Jack with a winning bid of 101\n"
     ]
    }
   ],
   "source": [
    "auction_dict = {\"name\": [], \"bid\": []}\n",
    "\n",
    "from IPython.display import clear_output\n",
    "\n",
    "print(\"Welcome to the auction!\")\n",
    "\n",
    "auction_is_on = True\n",
    "\n",
    "while auction_is_on == True:\n",
    "    my_name = input(\"What is your name?\\n\")\n",
    "    auction_dict['name'].append(my_name)\n",
    "    \n",
    "    my_bid = int(input(\"What is your bid?\\n$\"))\n",
    "    auction_dict['bid'].append(my_bid)\n",
    "    clear_output(wait=False)\n",
    "    \n",
    "    more_bidders = input(\"Are there more bidders?\\n\").lower()\n",
    "    clear_output(wait=False)\n",
    "    \n",
    "    if more_bidders not in [\"yes\",\"y\",\"ya\",\"yeah\",\"yea\"]:\n",
    "        print(f\"The winning bidder is {auction_dict['name'][auction_dict['bid'].index(max(auction_dict['bid']))]} with a winning bid of {auction_dict['bid'][auction_dict['bid'].index(max(auction_dict['bid']))]}\")\n",
    "        auction_is_on = False"
   ]
  },
  {
   "cell_type": "markdown",
   "id": "cbbb2e94",
   "metadata": {},
   "source": [
    "## Student Scores Challenge"
   ]
  },
  {
   "cell_type": "code",
   "execution_count": 21,
   "id": "ba3d9f92",
   "metadata": {
    "scrolled": true
   },
   "outputs": [
    {
     "name": "stdout",
     "output_type": "stream",
     "text": [
      "{'Harry': 'Exceeds Expectations', 'Ron': 'Acceptable', 'Hermione': 'Outstanding', 'Draco': 'Acceptable', 'Neville': 'Fail', 'Snape': 'Invalid Score', 'Voldemort': 'Invalid Score'}\n"
     ]
    }
   ],
   "source": [
    "student_scores = {\n",
    "  \"Harry\": 81,\n",
    "  \"Ron\": 78,\n",
    "  \"Hermione\": 99, \n",
    "  \"Draco\": 74,\n",
    "  \"Neville\": 62,\n",
    "  \"Snape\": -2,\n",
    "  \"Voldemort\": 101\n",
    "}\n",
    "# 🚨 Don't change the code above 👆\n",
    "\n",
    "#TODO-1: Create an empty dictionary called student_grades.\n",
    "\n",
    "student_grades = {}\n",
    "\n",
    "#TODO-2: Write your code below to add the grades to student_grades.👇\n",
    "\n",
    "def grader(num):\n",
    "    if num < 0:\n",
    "        return \"Invalid Score\"\n",
    "    elif num < 70:\n",
    "        return \"Fail\"\n",
    "    elif num <= 80:\n",
    "        return \"Acceptable\"\n",
    "    elif num <= 90:\n",
    "        return \"Exceeds Expectations\"\n",
    "    elif num <= 100:\n",
    "        return \"Outstanding\"\n",
    "    else:\n",
    "        return \"Invalid Score\"\n",
    "\n",
    "for key in student_scores:\n",
    "    student_grades[key] = grader(student_scores[key])\n",
    "\n",
    "\n",
    "# 🚨 Don't change the code below 👇\n",
    "print(student_grades)"
   ]
  },
  {
   "cell_type": "markdown",
   "id": "750005ef",
   "metadata": {},
   "source": [
    "## Nested Dictionaries Challenge"
   ]
  },
  {
   "cell_type": "markdown",
   "id": "3844d610",
   "metadata": {},
   "source": [
    "Create a travel log for the different places I've lived, the team I played for, the members of the host family, and the number of months spent there."
   ]
  },
  {
   "cell_type": "code",
   "execution_count": 26,
   "id": "140902f5",
   "metadata": {},
   "outputs": [
    {
     "data": {
      "text/html": [
       "<div>\n",
       "<style scoped>\n",
       "    .dataframe tbody tr th:only-of-type {\n",
       "        vertical-align: middle;\n",
       "    }\n",
       "\n",
       "    .dataframe tbody tr th {\n",
       "        vertical-align: top;\n",
       "    }\n",
       "\n",
       "    .dataframe thead th {\n",
       "        text-align: right;\n",
       "    }\n",
       "</style>\n",
       "<table border=\"1\" class=\"dataframe\">\n",
       "  <thead>\n",
       "    <tr style=\"text-align: right;\">\n",
       "      <th></th>\n",
       "      <th>Kent</th>\n",
       "      <th>Wausau</th>\n",
       "      <th>Barre</th>\n",
       "      <th>Bourne</th>\n",
       "      <th>Grand Junction</th>\n",
       "      <th>Chandler</th>\n",
       "    </tr>\n",
       "  </thead>\n",
       "  <tbody>\n",
       "    <tr>\n",
       "      <th>Team</th>\n",
       "      <td>Golden Flashes</td>\n",
       "      <td>Woodchucks</td>\n",
       "      <td>Mountaineers</td>\n",
       "      <td>Braves</td>\n",
       "      <td>Rockies</td>\n",
       "      <td>Spring Training</td>\n",
       "    </tr>\n",
       "    <tr>\n",
       "      <th>Host Family</th>\n",
       "      <td>[]</td>\n",
       "      <td>[Sharon Jaeger]</td>\n",
       "      <td>[Kelly Ross, Patrick Ross]</td>\n",
       "      <td>[Katie Donovan, Mr. Donovan]</td>\n",
       "      <td>[Spencer Campbell, Julie Campbell, Bev Campbel...</td>\n",
       "      <td>[Pam]</td>\n",
       "    </tr>\n",
       "    <tr>\n",
       "      <th>Months</th>\n",
       "      <td>45</td>\n",
       "      <td>6</td>\n",
       "      <td>3</td>\n",
       "      <td>1</td>\n",
       "      <td>4</td>\n",
       "      <td>2</td>\n",
       "    </tr>\n",
       "  </tbody>\n",
       "</table>\n",
       "</div>"
      ],
      "text/plain": [
       "                       Kent           Wausau                       Barre  \\\n",
       "Team         Golden Flashes       Woodchucks                Mountaineers   \n",
       "Host Family              []  [Sharon Jaeger]  [Kelly Ross, Patrick Ross]   \n",
       "Months                   45                6                           3   \n",
       "\n",
       "                                   Bourne  \\\n",
       "Team                               Braves   \n",
       "Host Family  [Katie Donovan, Mr. Donovan]   \n",
       "Months                                  1   \n",
       "\n",
       "                                                Grand Junction  \\\n",
       "Team                                                   Rockies   \n",
       "Host Family  [Spencer Campbell, Julie Campbell, Bev Campbel...   \n",
       "Months                                                       4   \n",
       "\n",
       "                    Chandler  \n",
       "Team         Spring Training  \n",
       "Host Family            [Pam]  \n",
       "Months                     2  "
      ]
     },
     "execution_count": 26,
     "metadata": {},
     "output_type": "execute_result"
    }
   ],
   "source": [
    "import pandas as pd\n",
    "\n",
    "travel_log = {\n",
    "    \"Kent\": {\"Team\": \"Golden Flashes\", \n",
    "             \"Host Family\": [], \n",
    "             \"Months\": 9*5},\n",
    "    \"Wausau\": {\"Team\": \"Woodchucks\", \n",
    "               \"Host Family\": ['Sharon Jaeger'], \n",
    "               \"Months\": 6},\n",
    "    \"Barre\": {\"Team\": \"Mountaineers\", \n",
    "              \"Host Family\": ['Kelly Ross','Patrick Ross'], \n",
    "              \"Months\": 3},\n",
    "    \"Bourne\": {\"Team\": \"Braves\", \n",
    "               \"Host Family\": ['Katie Donovan','Mr. Donovan'], \n",
    "               \"Months\": 1},\n",
    "    \"Grand Junction\": {\"Team\": \"Rockies\", \n",
    "                       \"Host Family\": ['Spencer Campbell','Julie Campbell','Bev Campbell','Dave Campbell'], \n",
    "                       \"Months\": 4},\n",
    "    \"Chandler\": {\"Team\": \"Spring Training\", \n",
    "                 \"Host Family\": ['Pam'], \n",
    "                 \"Months\": 2},\n",
    "    \n",
    "}\n",
    "\n",
    "pd.DataFrame(travel_log)\n"
   ]
  },
  {
   "cell_type": "markdown",
   "id": "c06860b1",
   "metadata": {},
   "source": [
    "## Dictionaries Quiz"
   ]
  },
  {
   "cell_type": "code",
   "execution_count": 2,
   "id": "25d9379b",
   "metadata": {},
   "outputs": [
    {
     "name": "stdout",
     "output_type": "stream",
     "text": [
      "{'a': 2, 'b': 3, 'c': 4}\n"
     ]
    }
   ],
   "source": [
    "my_dict = {\n",
    "    \"a\": 1,\n",
    "    \"b\": 2,\n",
    "    \"c\": 3,\n",
    "}\n",
    "\n",
    "for key in my_dict:\n",
    "    my_dict[key] += 1\n",
    "\n",
    "print(my_dict)"
   ]
  },
  {
   "cell_type": "code",
   "execution_count": 3,
   "id": "ef016e66",
   "metadata": {},
   "outputs": [
    {
     "data": {
      "text/plain": [
       "'Steak'"
      ]
     },
     "execution_count": 3,
     "metadata": {},
     "output_type": "execute_result"
    }
   ],
   "source": [
    "order = {\n",
    "    \"starter\": {1: \"Salad\", 2: \"Soup\"},\n",
    "    \"main\": {1: [\"Burger\", \"Fries\"], 2: [\"Steak\"]},\n",
    "    \"dessert\": {1: [\"Ice Cream\"], 2: []},\n",
    "}\n",
    "\n",
    "order['main'][2][0]"
   ]
  }
 ],
 "metadata": {
  "kernelspec": {
   "display_name": "Python 3 (ipykernel)",
   "language": "python",
   "name": "python3"
  },
  "language_info": {
   "codemirror_mode": {
    "name": "ipython",
    "version": 3
   },
   "file_extension": ".py",
   "mimetype": "text/x-python",
   "name": "python",
   "nbconvert_exporter": "python",
   "pygments_lexer": "ipython3",
   "version": "3.9.6"
  }
 },
 "nbformat": 4,
 "nbformat_minor": 5
}

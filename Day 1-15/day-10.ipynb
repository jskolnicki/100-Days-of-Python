{
 "cells": [
  {
   "cell_type": "markdown",
   "id": "ab743274",
   "metadata": {},
   "source": [
    "## Exercise 1"
   ]
  },
  {
   "cell_type": "code",
   "execution_count": 5,
   "id": "6b74532d",
   "metadata": {},
   "outputs": [
    {
     "ename": "SyntaxError",
     "evalue": "EOL while scanning string literal (Temp/ipykernel_15752/4026741456.py, line 4)",
     "output_type": "error",
     "traceback": [
      "\u001b[1;36m  File \u001b[1;32m\"C:\\Users\\jared\\AppData\\Local\\Temp/ipykernel_15752/4026741456.py\"\u001b[1;36m, line \u001b[1;32m4\u001b[0m\n\u001b[1;33m    return f\"titled_f_name,titled_l_name\u001b[0m\n\u001b[1;37m                                        ^\u001b[0m\n\u001b[1;31mSyntaxError\u001b[0m\u001b[1;31m:\u001b[0m EOL while scanning string literal\n"
     ]
    }
   ],
   "source": [
    "def format_name(f_name, l_name):\n",
    "    titled_f_name = f_name.title()\n",
    "    titled_l_name = l_name.title()\n",
    "    return f\"titled_f_name,titled_l_name\"\n",
    "\n",
    "format_name('luke','joHnson')"
   ]
  },
  {
   "cell_type": "markdown",
   "id": "da3e8f6e",
   "metadata": {},
   "source": [
    "# Create Your Own Calculator"
   ]
  },
  {
   "cell_type": "code",
   "execution_count": 16,
   "id": "eacf71fa",
   "metadata": {},
   "outputs": [
    {
     "name": "stdout",
     "output_type": "stream",
     "text": [
      "What is your first number?\n",
      "12\n",
      "\n",
      "What is your second numbrer?\n",
      "15\n",
      "\n",
      "Choose your operation.\n",
      "-\n",
      "12 - 15 = -3\n"
     ]
    }
   ],
   "source": [
    "#Add\n",
    "def add(n1, n2):\n",
    "    return n1 + n2\n",
    "\n",
    "#Subtract\n",
    "def subtract(n1, n2):\n",
    "    return n1 - n2\n",
    "\n",
    "#Multiply\n",
    "def multiply(n1, n2):\n",
    "    return n1 * n2\n",
    "\n",
    "#Divide\n",
    "def divide(n1, n2):\n",
    "    return n1 / n2\n",
    "\n",
    "#Exponent\n",
    "def exponential(n1, n2):\n",
    "    return n1 ** n2\n",
    "\n",
    "operation_dict = {\n",
    "    \"+\": add,\n",
    "    \"-\": subtract,\n",
    "    \"*\": multiply,\n",
    "    \"/\": divide,\n",
    "    \"**\": exponential,\n",
    "}\n",
    "\n",
    "num1 = int(input(\"What is your first number?\\n\"))\n",
    "operation = input(\"\\nChoose your operation.\\n\")\n",
    "num2 = int(input(\"\\nWhat is your second numbrer?\\n\"))\n",
    "\n",
    "print(f\"{num1} {operation} {num2} = {operation_dict[operation](num1,num2)}\")"
   ]
  }
 ],
 "metadata": {
  "kernelspec": {
   "display_name": "Python 3 (ipykernel)",
   "language": "python",
   "name": "python3"
  },
  "language_info": {
   "codemirror_mode": {
    "name": "ipython",
    "version": 3
   },
   "file_extension": ".py",
   "mimetype": "text/x-python",
   "name": "python",
   "nbconvert_exporter": "python",
   "pygments_lexer": "ipython3",
   "version": "3.9.6"
  }
 },
 "nbformat": 4,
 "nbformat_minor": 5
}

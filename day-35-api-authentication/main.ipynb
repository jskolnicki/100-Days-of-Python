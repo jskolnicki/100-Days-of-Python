{
 "cells": [
  {
   "cell_type": "code",
   "execution_count": 1,
   "metadata": {},
   "outputs": [
    {
     "name": "stdout",
     "output_type": "stream",
     "text": [
      "{'dt': 1652673600, 'temp': 286.83, 'feels_like': 286.53, 'pressure': 1013, 'humidity': 87, 'dew_point': 284.71, 'uvi': 0, 'clouds': 100, 'visibility': 10000, 'wind_speed': 1.73, 'wind_deg': 211, 'wind_gust': 7.64, 'weather': [{'id': 500, 'main': 'Rain', 'description': 'light rain', 'icon': '10n'}], 'pop': 0.84, 'rain': {'1h': 0.5}}\n"
     ]
    }
   ],
   "source": [
    "import requests\n",
    "\n",
    "api_key = '35e1c4eae55e876e0fdf629713b58c2d'\n",
    "\n",
    "parameters =  {\"lat\": 47.380932, \"lon\": -122.234840, 'appid': '35e1c4eae55e876e0fdf629713b58c2d'}\n",
    "\n",
    "\n",
    "response = requests.get(\"https://api.openweathermap.org/data/2.5/onecall\", params= parameters)\n",
    "response.raise_for_status()\n",
    "data=response.json()\n",
    "\n",
    "print(data['hourly'][0])"
   ]
  },
  {
   "cell_type": "code",
   "execution_count": 22,
   "metadata": {},
   "outputs": [],
   "source": [
    "no_rain = True\n",
    "for i in data['hourly'][8:20]:\n",
    "    if i['weather'][0]['id'] < 700:\n",
    "        no_rain = False\n",
    "\n",
    "if no_rain:\n",
    "    (print(\"NO RAIN!! :)\"))"
   ]
  }
 ],
 "metadata": {
  "interpreter": {
   "hash": "d65da66191f71f24bf90f4880f655b745c1449750f8c4a3e959bddde599b4da3"
  },
  "kernelspec": {
   "display_name": "Python 3.9.5 ('jared')",
   "language": "python",
   "name": "python3"
  },
  "language_info": {
   "codemirror_mode": {
    "name": "ipython",
    "version": 3
   },
   "file_extension": ".py",
   "mimetype": "text/x-python",
   "name": "python",
   "nbconvert_exporter": "python",
   "pygments_lexer": "ipython3",
   "version": "3.9.5"
  },
  "orig_nbformat": 4
 },
 "nbformat": 4,
 "nbformat_minor": 2
}

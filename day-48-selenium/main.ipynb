{
 "cells": [
  {
   "cell_type": "code",
   "execution_count": null,
   "metadata": {},
   "outputs": [],
   "source": [
    "import selenium\n",
    "print(selenium.__version__)"
   ]
  },
  {
   "cell_type": "code",
   "execution_count": null,
   "metadata": {},
   "outputs": [],
   "source": [
    "from selenium import webdriver\n",
    "from selenium.webdriver.chrome.service import Service\n",
    "from selenium.webdriver.common.by import By\n",
    "import pandas as pd\n",
    "\n",
    "chrome_options = webdriver.ChromeOptions()\n",
    "chrome_options.add_experimental_option(\"detach\", True)\n",
    "\n",
    "DRIVER_PATH = r'D:\\Documents\\GitHub\\chromedriver-win64\\chromedriver.exe'\n",
    "\n",
    "service = Service(executable_path=DRIVER_PATH)\n",
    "driver = webdriver.Chrome(service=service)\n",
    "driver.get(\"https://secure-retreat-92358.herokuapp.com/\")\n",
    "\n",
    "event_times = driver.find_elements_by_css_selector(\".event-widget time\")\n",
    "event_names = driver.find_elements_by_css_selector(\".event-widget li a\")\n",
    "\n",
    "events = {}\n",
    "for n in range(len(event_times)):\n",
    "    events[n]= {\n",
    "        'time': event_times[0].text,\n",
    "        'event': event_names[0].text\n",
    "    }\n",
    "\n",
    "driver.quit()\n",
    "\n",
    "pd.DataFrame(events)"
   ]
  },
  {
   "cell_type": "code",
   "execution_count": null,
   "metadata": {},
   "outputs": [],
   "source": [
    "dropdown_options = {\n",
    "    \"Environment\": ['Tee', 'Front Toss', 'Overhand Front Toss', 'Mini Hack', 'Batting Practice', 'Machine'],\n",
    "    \"Drills\": ['Around the World', 'Bat Speed Derby', 'Big Papi', 'Depth Ladder', 'Flow Drill', 'Flush It', 'Game Swings', 'Home Run Derby', 'High Middle Low', 'Hook Em', 'Keep It Fair', 'Kershaw', 'Launch Angle Ladder', 'No Stride' ,'Offset Closed', 'Offset Open', 'Offset Rotation', 'Pivot Pickoffs', 'Step Backs', 'Walk Through'],\n",
    "    \"Bat\": ['Barrel Load', 'Barrel Load & Handle Load', 'Bazooka Bat', 'Fungo', 'Game Bat', 'Handle Load', 'Long Bat', 'Short Bat', 'Smash Bat', 'Speed Trainers', 'Speed Trainers & Game Bat', 'Underload'],\n",
    "    \"Ball\": ['Baseballs', 'Hitting Plyos', 'Smash Balls'],\n",
    "    \"Ball Flight Intention\": ['Between 10-30°', 'Low Oppo', 'Lines Drives Oppo Gap', 'Line Drives Pull Gap', 'Line Drives', 'Line Drives to CF', 'Low Line Drives', 'Home Runs Oppo', 'Home Runs Pull Side', 'Home Runs to CF'],\n",
    "    \"Machine Angle\": ['Oppo Angle', 'Pull Angle'],\n",
    "    \"Pitch Location\": ['High', 'High and In', 'Inside', 'Low', 'Low and In', 'Outside', 'Alternating In/Out', 'Alternating High/Low', 'Alternating High/Middle/Low'],\n",
    "    \"Pitch Type\": ['FB', 'SI', 'CT', 'SL', 'SW', 'SP', 'CH', 'CB', 'KB']}"
   ]
  },
  {
   "cell_type": "code",
   "execution_count": null,
   "metadata": {},
   "outputs": [],
   "source": [
    "for bfi in dropdown_options['Pitch Type']:\n",
    "    print(f\"{bfi}\")"
   ]
  }
 ],
 "metadata": {
  "kernelspec": {
   "display_name": "jared",
   "language": "python",
   "name": "python3"
  },
  "language_info": {
   "codemirror_mode": {
    "name": "ipython",
    "version": 3
   },
   "file_extension": ".py",
   "mimetype": "text/x-python",
   "name": "python",
   "nbconvert_exporter": "python",
   "pygments_lexer": "ipython3",
   "version": "3.10.15"
  }
 },
 "nbformat": 4,
 "nbformat_minor": 2
}

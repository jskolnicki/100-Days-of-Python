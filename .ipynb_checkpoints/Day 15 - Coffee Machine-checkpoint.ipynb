{
 "cells": [
  {
   "cell_type": "code",
   "execution_count": null,
   "metadata": {},
   "outputs": [
    {
     "name": "stdout",
     "output_type": "stream",
     "text": [
      "MENU\n",
      "ESPRESSO ... $1.5\n",
      "LATTE ... $2.5\n",
      "CAPPUCCINO ... $3.0\n",
      "Select your drink: espresso\n",
      "MENU\n",
      "ESPRESSO ... $1.5\n",
      "LATTE ... $2.5\n",
      "CAPPUCCINO ... $3.0\n"
     ]
    }
   ],
   "source": [
    "MENU = {\n",
    "    \"espresso\": {\n",
    "        \"ingredients\": {\n",
    "            \"water\": 50,\n",
    "            \"coffee\": 18,\n",
    "        },\n",
    "        \"cost\": 1.5,\n",
    "    },\n",
    "    \"latte\": {\n",
    "        \"ingredients\": {\n",
    "            \"water\": 200,\n",
    "            \"milk\": 150,\n",
    "            \"coffee\": 24,\n",
    "        },\n",
    "        \"cost\": 2.5,\n",
    "    },\n",
    "    \"cappuccino\": {\n",
    "        \"ingredients\": {\n",
    "            \"water\": 250,\n",
    "            \"milk\": 100,\n",
    "            \"coffee\": 24,\n",
    "        },\n",
    "        \"cost\": 3.0,\n",
    "    }\n",
    "}\n",
    "\n",
    "resources = {\n",
    "    \"water\": 300,\n",
    "    \"milk\": 200,\n",
    "    \"coffee\": 100,\n",
    "}\n",
    "\n",
    "\n",
    "from IPython.display import clear_output\n",
    "\n",
    "\n",
    "def order_drink():\n",
    "    print(\"MENU\")\n",
    "    for menu_item in MENU.keys():\n",
    "        print(f\"{menu_item.upper()} ... ${MENU[menu_item]['cost']}\")\n",
    "    drink_choice = input(\"Select your drink: \").lower()\n",
    "    return drink_choice\n",
    "\n",
    "\n",
    "def check_inventory(drink_choice):\n",
    "    for ingredient in resources:\n",
    "        if resources[ingredient] - MENU[drink_choice]['ingredients'][ingredient] < 0:\n",
    "            return(f\"There is not enough {ingredient}.\")\n",
    "        else:\n",
    "            return resources[ingredient] - MENU[drink_choice]['ingredients'][ingredient]\n",
    "        \n",
    "def pay():\n",
    "    quarters = inpu\n",
    "        \n",
    "        \n",
    "vending_machine_on = True\n",
    "\n",
    "while vending_machine_on:\n",
    "    drink_choice = order_drink()\n",
    "    check_inventory(drink_choice)\n",
    "    clear_output()"
   ]
  },
  {
   "cell_type": "code",
   "execution_count": null,
   "metadata": {},
   "outputs": [],
   "source": []
  }
 ],
 "metadata": {
  "interpreter": {
   "hash": "8477abf703667a0dd53b2244430a217618462a5ac2de5ddbd78ef7af0d17aa00"
  },
  "kernelspec": {
   "display_name": "Python 3 (ipykernel)",
   "language": "python",
   "name": "python3"
  },
  "language_info": {
   "codemirror_mode": {
    "name": "ipython",
    "version": 3
   },
   "file_extension": ".py",
   "mimetype": "text/x-python",
   "name": "python",
   "nbconvert_exporter": "python",
   "pygments_lexer": "ipython3",
   "version": "3.9.6"
  }
 },
 "nbformat": 4,
 "nbformat_minor": 2
}

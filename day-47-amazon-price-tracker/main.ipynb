{
 "cells": [
  {
   "cell_type": "code",
   "execution_count": null,
   "metadata": {},
   "outputs": [],
   "source": [
    "import requests\n",
    "import lxml\n",
    "from bs4 import BeautifulSoup\n",
    "\n",
    "url = \"https://www.amazon.com/Furinno-14110R1CC-5-Shelf-Bookcase-Espresso/dp/B01BWXPUFI/ref=sr_1_17?crid=2QIZMVQ7PPST4&keywords=book%2Bshelf&qid=1698556938&sprefix=book%2Bshelf%2Caps%2C80&sr=8-17&th=1\"\n",
    "header = {\n",
    "    \"User-Agent\": \"Mozilla/5.0 (Windows NT 10.0; Win64; x64) AppleWebKit/537.36 (KHTML, like Gecko) Chrome/118.0.0.0 Safari/537.36\",\n",
    "    \"Accept-Language\": \"en-US,en;q=0.9,fr;q=0.8\"\n",
    "}\n",
    "\n",
    "response = requests.get(url, headers=header)\n",
    "\n",
    "soup = BeautifulSoup(response.content, \"lxml\")\n",
    "print(soup.prettify())\n",
    "\n",
    "price = soup.find(class_=\"a-offscreen\").get_text()\n",
    "price_without_currency = price.split(\"$\")[1]\n",
    "price_as_float = float(price_without_currency)\n",
    "print(price_as_float)\n",
    "\n"
   ]
  }
 ],
 "metadata": {
  "kernelspec": {
   "display_name": "jared",
   "language": "python",
   "name": "python3"
  },
  "language_info": {
   "codemirror_mode": {
    "name": "ipython",
    "version": 3
   },
   "file_extension": ".py",
   "mimetype": "text/x-python",
   "name": "python",
   "nbconvert_exporter": "python",
   "pygments_lexer": "ipython3",
   "version": "3.10.15"
  }
 },
 "nbformat": 4,
 "nbformat_minor": 2
}

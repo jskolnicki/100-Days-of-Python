{
 "cells": [
  {
   "cell_type": "code",
   "execution_count": null,
   "metadata": {},
   "outputs": [],
   "source": [
    "from bs4 import BeautifulSoup\n",
    "import requests\n",
    "import pandas as pd\n",
    "\n",
    "\n",
    "soup = BeautifulSoup(requests.get(\"https://web.archive.org/web/20200518073855/https://www.empireonline.com/movies/features/best-movies-2/\").text)\n",
    "\n"
   ]
  },
  {
   "cell_type": "code",
   "execution_count": null,
   "metadata": {},
   "outputs": [],
   "source": [
    "movie_data = []\n",
    "\n",
    "for movie in soup.find_all(name='div',class_='article-title-description'):\n",
    "    try:\n",
    "        rank = int(movie.h3.get_text().split(\")\")[0])\n",
    "    except ValueError:\n",
    "        rank = int(movie.h3.get_text().split(\":\")[0])\n",
    "    \n",
    "    \n",
    "    try:\n",
    "        title = movie.h3.get_text().split(\")\")[1].lstrip()\n",
    "    except IndexError:\n",
    "        title = movie.h3.get_text().split(\":\")[1].lstrip()\n",
    "    \n",
    "    \n",
    "    try:\n",
    "        year = movie.strong.get_text()\n",
    "    except AttributeError:\n",
    "        year = movie.find_all(name='p')[1].get_text()[0:4]\n",
    "\n",
    "    movie_data.append([rank,title,year])\n",
    "\n",
    "df = pd.DataFrame(movie_data, columns=['Rank', 'Title', 'Year'])"
   ]
  },
  {
   "cell_type": "code",
   "execution_count": null,
   "metadata": {},
   "outputs": [],
   "source": [
    "for index, movie in df.sort_values(by='Rank').iterrows():\n",
    "    print(f\"{movie.Rank}) {movie.Title} ({movie.Year})\")"
   ]
  }
 ],
 "metadata": {
  "kernelspec": {
   "display_name": "jared",
   "language": "python",
   "name": "python3"
  },
  "language_info": {
   "codemirror_mode": {
    "name": "ipython",
    "version": 3
   },
   "file_extension": ".py",
   "mimetype": "text/x-python",
   "name": "python",
   "nbconvert_exporter": "python",
   "pygments_lexer": "ipython3",
   "version": "3.10.15"
  },
  "orig_nbformat": 4
 },
 "nbformat": 4,
 "nbformat_minor": 2
}

{
 "cells": [
  {
   "cell_type": "code",
   "execution_count": null,
   "metadata": {},
   "outputs": [],
   "source": [
    "from bs4 import BeautifulSoup\n",
    "import requests\n",
    "\n",
    "response = requests.get(\"https://news.ycombinator.com/\")\n",
    "\n",
    "yc_web_page = response.text\n",
    "\n",
    "soup = BeautifulSoup(yc_web_page, 'html.parser')"
   ]
  },
  {
   "cell_type": "code",
   "execution_count": null,
   "metadata": {},
   "outputs": [],
   "source": [
    "article_text = soup.find(name='span', class_='titleline').get_text()\n",
    "\n",
    "article_link = soup.find(name='span', class_='titleline').a.get('href')\n",
    "\n",
    "article_rank = soup.find(name='span', class_='score').get_text().split(\" \")[0]"
   ]
  },
  {
   "cell_type": "code",
   "execution_count": null,
   "metadata": {},
   "outputs": [],
   "source": [
    "article_texts = []\n",
    "article_links = []\n",
    "\n",
    "for line in soup.find_all(name='span', class_='titleline'):\n",
    "    text = line.get_text()\n",
    "    link = line.a.get('href')\n",
    "    article_texts.append(text)\n",
    "    article_links.append(link)\n",
    "\n",
    "article_votes = [article.get_text().split()[0] for article in soup.find_all(name='span',class_='score')]"
   ]
  },
  {
   "cell_type": "code",
   "execution_count": null,
   "metadata": {},
   "outputs": [],
   "source": [
    "import pandas as pd\n",
    "\n",
    "pd.DataFrame([article_texts,article_links,article_votes])"
   ]
  }
 ],
 "metadata": {
  "kernelspec": {
   "display_name": "jared",
   "language": "python",
   "name": "python3"
  },
  "language_info": {
   "codemirror_mode": {
    "name": "ipython",
    "version": 3
   },
   "file_extension": ".py",
   "mimetype": "text/x-python",
   "name": "python",
   "nbconvert_exporter": "python",
   "pygments_lexer": "ipython3",
   "version": "3.9.5"
  },
  "orig_nbformat": 4
 },
 "nbformat": 4,
 "nbformat_minor": 2
}
